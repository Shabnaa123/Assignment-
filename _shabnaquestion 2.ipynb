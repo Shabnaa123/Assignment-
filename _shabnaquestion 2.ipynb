{
 "cells": [
  {
   "cell_type": "code",
   "execution_count": 1,
   "id": "99b5e647-d1e3-470f-b730-7a6aba8742ef",
   "metadata": {},
   "outputs": [],
   "source": [
    "temperature_data = [23, 25, 20, 22, 27, 24, 26]\n",
    "humidity_data = [60, 55, 70, 65, 50, 60, 55]"
   ]
  },
  {
   "cell_type": "code",
   "execution_count": 3,
   "id": "eecaf56e-2a2f-4be3-a9b9-175ebc73adc5",
   "metadata": {},
   "outputs": [],
   "source": [
    "def calculate_average_temperature(temps):\n",
    "    return sum(temps) / len(temps)"
   ]
  },
  {
   "cell_type": "code",
   "execution_count": 5,
   "id": "cc3bc81c-ed7a-4063-8366-566e0ce13bba",
   "metadata": {},
   "outputs": [],
   "source": [
    "def calculate_average_humidity(humidity):\n",
    "    return sum(humidity) / len(humidity)"
   ]
  },
  {
   "cell_type": "code",
   "execution_count": 17,
   "id": "e5b78b98-7874-41af-baf4-12cfbeacc00c",
   "metadata": {},
   "outputs": [],
   "source": [
    "def determine_weather(temp, humidity):\n",
    "    if temp > 25 and humidity < 60:\n",
    "        return \"sunny\"\n",
    "    elif temp < 25 and humidity > 70:\n",
    "        return \"rainy\"\n",
    "    elif 20 <= temp <= 25 and 60 <= humidity <= 60:\n",
    "        return \"mild\"\n",
    "    else:\n",
    "        return \"moderate\""
   ]
  },
  {
   "cell_type": "code",
   "execution_count": 19,
   "id": "89037493-7148-4875-9408-f925b0d53080",
   "metadata": {},
   "outputs": [],
   "source": [
    "average_temperature = calculate_average_temperature(temperature_data)\n",
    "average_humidity = calculate_average_humidity(humidity_data)"
   ]
  },
  {
   "cell_type": "code",
   "execution_count": 21,
   "id": "36d88d23-64e2-438a-bfcd-fc67df214c66",
   "metadata": {},
   "outputs": [],
   "source": [
    "weather_condition = determine_weather(average_temperature, average_humidity)"
   ]
  },
  {
   "cell_type": "code",
   "execution_count": 13,
   "id": "7043fbda-aee5-4f36-9e58-c4bc862913bb",
   "metadata": {},
   "outputs": [
    {
     "name": "stdout",
     "output_type": "stream",
     "text": [
      "Average temperature: 23.86 °c\n",
      "Average humidity: 59.29%\n"
     ]
    }
   ],
   "source": [
    "print(f\"Average temperature: {average_temp:.2f} °c\")\n",
    "print(f\"Average humidity: {average_humidity:.2f}%\")\n",
    "print(f\"weather condition: {weather"
   ]
  },
  {
   "cell_type": "code",
   "execution_count": null,
   "id": "dd6c99b1-5e61-40d0-a5b7-035e58fe8fa3",
   "metadata": {},
   "outputs": [],
   "source": []
  }
 ],
 "metadata": {
  "kernelspec": {
   "display_name": "Python 3 (ipykernel)",
   "language": "python",
   "name": "python3"
  },
  "language_info": {
   "codemirror_mode": {
    "name": "ipython",
    "version": 3
   },
   "file_extension": ".py",
   "mimetype": "text/x-python",
   "name": "python",
   "nbconvert_exporter": "python",
   "pygments_lexer": "ipython3",
   "version": "3.12.4"
  }
 },
 "nbformat": 4,
 "nbformat_minor": 5
}
