{
 "cells": [
  {
   "cell_type": "code",
   "execution_count": null,
   "id": "eaf3e82f-fab0-48ec-8692-88dde86830f9",
   "metadata": {},
   "outputs": [
    {
     "name": "stdout",
     "output_type": "stream",
     "text": [
      "Enter the items purchased and their quantities. Type 'done' to finish.\n"
     ]
    },
    {
     "name": "stdin",
     "output_type": "stream",
     "text": [
      "Enter the item name:  milk\n",
      "Enter the quantity for milk:  2\n"
     ]
    },
    {
     "name": "stdout",
     "output_type": "stream",
     "text": [
      "total bill details:\n",
      "milk: 2 x 50 = 100 units\n",
      "total bill is: 100 units\n"
     ]
    },
    {
     "name": "stdin",
     "output_type": "stream",
     "text": [
      "Enter the item name:  apple\n",
      "Enter the quantity for apple:  3\n"
     ]
    },
    {
     "name": "stdout",
     "output_type": "stream",
     "text": [
      "total bill details:\n",
      "milk: 2 x 50 = 100 units\n",
      "apple: 3 x 10 = 30 units\n",
      "total bill is: 130 units\n"
     ]
    }
   ],
   "source": [
    "# GROCERY BILL\n",
    "prices= { 'apple':10, 'milk':50, 'bread':30, 'banana':20, 'egg':5}\n",
    "def calculate_total_bill():\n",
    "    total_bill = 0\n",
    "    items_purchased = {}\n",
    "    \n",
    "    print(\"Enter the items purchased and their quantities. Type 'done' to finish.\")\n",
    "\n",
    "    while True:\n",
    "        item = input(\"Enter the item name: \").lower()\n",
    "        if item == 'done':\n",
    "            break\n",
    "            \n",
    "        if item in prices:\n",
    "            try:\n",
    "                 quantity = int(input(f\"Enter the quantity for {item}: \"))\n",
    "                 total_bill += prices[item] * quantity \n",
    "                 items_purchased[item] = quantity\n",
    "            except ValueError:\n",
    "                 print(\"please enter a valid quantity.\")\n",
    "        else:\n",
    "                 print(f\"sorry, we don't have {item} in the store.\")\n",
    "            \n",
    "        print(\"total bill details:\")\n",
    "        for item, quantity in items_purchased.items():\n",
    "            print(f\"{item}: {quantity} x {prices[item]} = {quantity * prices[item]} units\")\n",
    "        print (f\"total bill is: {total_bill} units\")\n",
    "\n",
    "calculate_total_bill()"
   ]
  },
  {
   "cell_type": "markdown",
   "id": "3147a7f6-b7c6-496f-b816-d6e2aae1f5e5",
   "metadata": {},
   "source": [
    "# AVERAGE MARK"
   ]
  },
  {
   "cell_type": "code",
   "execution_count": 2,
   "id": "475a782c-7b68-489a-9245-8f2ded112b46",
   "metadata": {},
   "outputs": [
    {
     "name": "stdin",
     "output_type": "stream",
     "text": [
      "enter marks for subject 1:  98\n"
     ]
    },
    {
     "name": "stdout",
     "output_type": "stream",
     "text": [
      "Average marks: 98.00\n",
      "Grade: A\n"
     ]
    },
    {
     "name": "stdin",
     "output_type": "stream",
     "text": [
      "enter marks for subject 2:  75\n"
     ]
    },
    {
     "name": "stdout",
     "output_type": "stream",
     "text": [
      "Average marks: 86.50\n",
      "Grade: B\n"
     ]
    },
    {
     "name": "stdin",
     "output_type": "stream",
     "text": [
      "enter marks for subject 3:  85\n"
     ]
    },
    {
     "name": "stdout",
     "output_type": "stream",
     "text": [
      "Average marks: 86.00\n",
      "Grade: B\n"
     ]
    },
    {
     "name": "stdin",
     "output_type": "stream",
     "text": [
      "enter marks for subject 4:  81\n"
     ]
    },
    {
     "name": "stdout",
     "output_type": "stream",
     "text": [
      "Average marks: 84.75\n",
      "Grade: B\n"
     ]
    },
    {
     "name": "stdin",
     "output_type": "stream",
     "text": [
      "enter marks for subject 5:  90\n"
     ]
    },
    {
     "name": "stdout",
     "output_type": "stream",
     "text": [
      "Average marks: 85.80\n",
      "Grade: B\n"
     ]
    }
   ],
   "source": [
    "marks = []\n",
    "for i in range(5):\n",
    "    mark = float(input(f\"enter marks for subject {i+1}: \"))\n",
    "    marks.append(mark)\n",
    "\n",
    "    average = sum(marks) / len(marks)\n",
    "    if average >= 90:\n",
    "        grade = 'A'\n",
    "    elif average >= 70:\n",
    "        grade = 'B'\n",
    "    elif average >=50:\n",
    "        grade = 'C'\n",
    "    else:\n",
    "        grade = 'F'\n",
    "        \n",
    "    print(f\"Average marks: {average:.2f}\")\n",
    "    print(f\"Grade: {grade}\")"
   ]
  },
  {
   "cell_type": "raw",
   "id": "d6be209b-0517-41ec-aa9f-2eaa1b27ef7d",
   "metadata": {},
   "source": [
    "# THEATRE SEAT"
   ]
  },
  {
   "cell_type": "code",
   "execution_count": 1,
   "id": "85bc0427-1ddd-40e5-a76b-bebdcc29af59",
   "metadata": {},
   "outputs": [
    {
     "name": "stdout",
     "output_type": "stream",
     "text": [
      "Available seats: [1, 2, 3, 4, 5, 6, 7, 8, 9, 10, 11, 12, 13, 14, 15, 16, 17, 18, 19, 20]\n"
     ]
    },
    {
     "name": "stdin",
     "output_type": "stream",
     "text": [
      "enter the seat number you want to book (or 0 to exit):  4\n"
     ]
    },
    {
     "name": "stdout",
     "output_type": "stream",
     "text": [
      "seat 4 has been booked successfully!\n",
      "Available seats: [1, 2, 3, 5, 6, 7, 8, 9, 10, 11, 12, 13, 14, 15, 16, 17, 18, 19, 20]\n"
     ]
    },
    {
     "name": "stdin",
     "output_type": "stream",
     "text": [
      "enter the seat number you want to book (or 0 to exit):  7\n"
     ]
    },
    {
     "name": "stdout",
     "output_type": "stream",
     "text": [
      "seat 7 has been booked successfully!\n",
      "Available seats: [1, 2, 3, 5, 6, 8, 9, 10, 11, 12, 13, 14, 15, 16, 17, 18, 19, 20]\n"
     ]
    },
    {
     "name": "stdin",
     "output_type": "stream",
     "text": [
      "enter the seat number you want to book (or 0 to exit):  4\n"
     ]
    },
    {
     "name": "stdout",
     "output_type": "stream",
     "text": [
      "seat 4 is already booked or invalid.\n",
      "Available seats: [1, 2, 3, 5, 6, 8, 9, 10, 11, 12, 13, 14, 15, 16, 17, 18, 19, 20]\n"
     ]
    },
    {
     "name": "stdin",
     "output_type": "stream",
     "text": [
      "enter the seat number you want to book (or 0 to exit):  22\n"
     ]
    },
    {
     "name": "stdout",
     "output_type": "stream",
     "text": [
      "seat 22 is already booked or invalid.\n",
      "Available seats: [1, 2, 3, 5, 6, 8, 9, 10, 11, 12, 13, 14, 15, 16, 17, 18, 19, 20]\n"
     ]
    },
    {
     "name": "stdin",
     "output_type": "stream",
     "text": [
      "enter the seat number you want to book (or 0 to exit):  0\n"
     ]
    },
    {
     "name": "stdout",
     "output_type": "stream",
     "text": [
      "exiting the booking system.\n"
     ]
    }
   ],
   "source": [
    "available_seats = list(range(1, 21))\n",
    "def display_available_seats():\n",
    "    print(\"Available seats:\", available_seats)\n",
    "def book_seat(seat_number):\n",
    "    if seat_number in available_seats:\n",
    "        available_seats.remove(seat_number)\n",
    "        print(f\"seat {seat_number} has been booked successfully!\")\n",
    "    else:\n",
    "        print(f\"seat {seat_number} is already booked or invalid.\")\n",
    "while True:\n",
    "        display_available_seats()\n",
    "        seat_input = input(\"enter the seat number you want to book (or 0 to exit): \")\n",
    "        \n",
    "        if seat_input.isdigit():\n",
    "            seat_number = int(seat_input)\n",
    "\n",
    "            if seat_number == 0:\n",
    "               print(\"exiting the booking system.\")\n",
    "               break\n",
    "\n",
    "            book_seat(seat_number)\n",
    "        else:\n",
    "             print(\"please enter a valid seat number.\")   "
   ]
  },
  {
   "cell_type": "code",
   "execution_count": null,
   "id": "6b83aee0-2490-49de-9e94-b2cd33b36a55",
   "metadata": {},
   "outputs": [],
   "source": []
  }
 ],
 "metadata": {
  "kernelspec": {
   "display_name": "Python 3 (ipykernel)",
   "language": "python",
   "name": "python3"
  },
  "language_info": {
   "codemirror_mode": {
    "name": "ipython",
    "version": 3
   },
   "file_extension": ".py",
   "mimetype": "text/x-python",
   "name": "python",
   "nbconvert_exporter": "python",
   "pygments_lexer": "ipython3",
   "version": "3.12.4"
  }
 },
 "nbformat": 4,
 "nbformat_minor": 5
}
