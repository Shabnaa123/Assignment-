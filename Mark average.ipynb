{
 "cells": [
  {
   "cell_type": "code",
   "execution_count": null,
   "id": "272bf7a7-48b4-4eb9-9037-18af0554f86b",
   "metadata": {},
   "outputs": [],
   "source": [
    "marks = []\n",
    "for i in range(5):\n",
    "    mark = float(input(f\"enter marks for subject {i+1}: \"))\n",
    "    marks.append(mark)\n",
    "\n",
    "    average = sum(marks) / len(marks)\n",
    "    if average >= 90:\n",
    "        grade = 'A'\n",
    "    elif average >= 70:\n",
    "        grade = 'B'\n",
    "    elif average >=50:\n",
    "        grade = 'C'\n",
    "    else:\n",
    "        grade = 'F'\n",
    "        \n",
    "    print(f\"Average marks: {average:.2f}\")\n",
    "    print(f\"Grade: {grade}\")"
   ]
  },
  {
   "cell_type": "code",
   "execution_count": 45,
   "id": "14434df8-a186-4c4f-8fee-a5be7843312f",
   "metadata": {},
   "outputs": [
    {
     "name": "stdin",
     "output_type": "stream",
     "text": [
      "enter marks for subject 1:  98\n"
     ]
    },
    {
     "name": "stdout",
     "output_type": "stream",
     "text": [
      "Average marks: 98.00\n",
      "Grade: A\n"
     ]
    },
    {
     "name": "stdin",
     "output_type": "stream",
     "text": [
      "enter marks for subject 2:  99\n"
     ]
    },
    {
     "name": "stdout",
     "output_type": "stream",
     "text": [
      "Average marks: 98.50\n",
      "Grade: A\n"
     ]
    },
    {
     "name": "stdin",
     "output_type": "stream",
     "text": [
      "enter marks for subject 3:  78\n"
     ]
    },
    {
     "name": "stdout",
     "output_type": "stream",
     "text": [
      "Average marks: 91.67\n",
      "Grade: A\n"
     ]
    },
    {
     "name": "stdin",
     "output_type": "stream",
     "text": [
      "enter marks for subject 4:  96\n"
     ]
    },
    {
     "name": "stdout",
     "output_type": "stream",
     "text": [
      "Average marks: 92.75\n",
      "Grade: A\n"
     ]
    },
    {
     "name": "stdin",
     "output_type": "stream",
     "text": [
      "enter marks for subject 5:  85\n"
     ]
    },
    {
     "name": "stdout",
     "output_type": "stream",
     "text": [
      "Average marks: 91.20\n",
      "Grade: A\n"
     ]
    }
   ],
   "source": [
    "marks = []\n",
    "for i in range(5):\n",
    "    mark = float(input(f\"enter marks for subject {i+1}: \"))\n",
    "    marks.append(mark)\n",
    "\n",
    "    average = sum(marks) / len(marks)\n",
    "    if average >= 90:\n",
    "        grade = 'A'\n",
    "    elif average >= 70:\n",
    "        grade = 'B'\n",
    "    elif average >=50:\n",
    "        grade = 'C'\n",
    "    else:\n",
    "        grade = 'F'\n",
    "        \n",
    "    print(f\"Average marks: {average:.2f}\")\n",
    "    print(f\"Grade: {grade}\")\n"
   ]
  },
  {
   "cell_type": "code",
   "execution_count": null,
   "id": "06d96dc3-d5cc-4b20-977b-f48a9cbf60a1",
   "metadata": {},
   "outputs": [],
   "source": []
  }
 ],
 "metadata": {
  "kernelspec": {
   "display_name": "Python 3 (ipykernel)",
   "language": "python",
   "name": "python3"
  },
  "language_info": {
   "codemirror_mode": {
    "name": "ipython",
    "version": 3
   },
   "file_extension": ".py",
   "mimetype": "text/x-python",
   "name": "python",
   "nbconvert_exporter": "python",
   "pygments_lexer": "ipython3",
   "version": "3.12.4"
  }
 },
 "nbformat": 4,
 "nbformat_minor": 5
}
