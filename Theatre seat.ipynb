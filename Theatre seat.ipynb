{
 "cells": [
  {
   "cell_type": "code",
   "execution_count": 1,
   "id": "7551ad5c-a02b-464b-a83a-68a1a3dcf345",
   "metadata": {},
   "outputs": [],
   "source": [
    "available_seats = list(range(1, 21))\n",
    "def display_available_seats():\n",
    "    print(\"Available seats:\", available_seats)\n"
   ]
  },
  {
   "cell_type": "code",
   "execution_count": 3,
   "id": "dd6dac3e-b395-42ef-94aa-c5f79ec815e0",
   "metadata": {},
   "outputs": [],
   "source": [
    "def book_seat(seat_number):\n",
    "    if seat_number in available_seats:\n",
    "        available_seats.remove(seat_number)\n",
    "        print(f\"seat {seat_number} has been booked successfully!\")\n",
    "    else:\n",
    "        print(f\"seat {seat_number} is already booked or invalid.\")\n",
    "   "
   ]
  },
  {
   "cell_type": "code",
   "execution_count": 5,
   "id": "5adaca9c-fbc9-435e-a5c3-379ab613c784",
   "metadata": {},
   "outputs": [
    {
     "name": "stdout",
     "output_type": "stream",
     "text": [
      "Available seats: [1, 2, 3, 4, 5, 6, 7, 8, 9, 10, 11, 12, 13, 14, 15, 16, 17, 18, 19, 20]\n"
     ]
    },
    {
     "name": "stdin",
     "output_type": "stream",
     "text": [
      "enter the seat number you want to book (or 0 to exit):  7\n"
     ]
    },
    {
     "name": "stdout",
     "output_type": "stream",
     "text": [
      "seat 7 has been booked successfully!\n",
      "Available seats: [1, 2, 3, 4, 5, 6, 8, 9, 10, 11, 12, 13, 14, 15, 16, 17, 18, 19, 20]\n"
     ]
    },
    {
     "name": "stdin",
     "output_type": "stream",
     "text": [
      "enter the seat number you want to book (or 0 to exit):  7\n"
     ]
    },
    {
     "name": "stdout",
     "output_type": "stream",
     "text": [
      "seat 7 is already booked or invalid.\n",
      "Available seats: [1, 2, 3, 4, 5, 6, 8, 9, 10, 11, 12, 13, 14, 15, 16, 17, 18, 19, 20]\n"
     ]
    },
    {
     "name": "stdin",
     "output_type": "stream",
     "text": [
      "enter the seat number you want to book (or 0 to exit):  6\n"
     ]
    },
    {
     "name": "stdout",
     "output_type": "stream",
     "text": [
      "seat 6 has been booked successfully!\n",
      "Available seats: [1, 2, 3, 4, 5, 8, 9, 10, 11, 12, 13, 14, 15, 16, 17, 18, 19, 20]\n"
     ]
    },
    {
     "name": "stdin",
     "output_type": "stream",
     "text": [
      "enter the seat number you want to book (or 0 to exit):  0\n"
     ]
    },
    {
     "name": "stdout",
     "output_type": "stream",
     "text": [
      "exiting the booking system.\n"
     ]
    }
   ],
   "source": [
    "while True:\n",
    "        display_available_seats()\n",
    "        seat_input = input(\"enter the seat number you want to book (or 0 to exit): \")\n",
    "        \n",
    "        if seat_input.isdigit():\n",
    "            seat_number = int(seat_input)\n",
    "\n",
    "            if seat_number == 0:\n",
    "               print(\"exiting the booking system.\")\n",
    "               break\n",
    "\n",
    "            book_seat(seat_number)\n",
    "        else:\n",
    "             print(\"please enter a valid seat number.\")"
   ]
  },
  {
   "cell_type": "code",
   "execution_count": null,
   "id": "b7eeb037-240a-4adc-9649-caa8721ddae3",
   "metadata": {},
   "outputs": [],
   "source": []
  }
 ],
 "metadata": {
  "kernelspec": {
   "display_name": "Python 3 (ipykernel)",
   "language": "python",
   "name": "python3"
  },
  "language_info": {
   "codemirror_mode": {
    "name": "ipython",
    "version": 3
   },
   "file_extension": ".py",
   "mimetype": "text/x-python",
   "name": "python",
   "nbconvert_exporter": "python",
   "pygments_lexer": "ipython3",
   "version": "3.12.4"
  }
 },
 "nbformat": 4,
 "nbformat_minor": 5
}
