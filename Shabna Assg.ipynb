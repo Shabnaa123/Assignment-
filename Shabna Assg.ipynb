{
 "cells": [
  {
   "cell_type": "code",
   "execution_count": 1,
   "id": "46a7056f-da56-4172-8245-6b3c704bff9f",
   "metadata": {},
   "outputs": [],
   "source": [
    "class BankAccount:\n",
    "    def __init__(self):\n",
    "        self.balance=0\n",
    "        print(\"Hello!!! welcome to the deposit & withdrawal machine\")\n",
    "\n",
    "def deposit(self):\n",
    "    amount=float(input(\"Enter amount to be deposited: \"))\n",
    "    self.balance += amount\n",
    "    print(\"\\n Amount deposited:\",amount)\n",
    "\n",
    "def withdraw(self):\n",
    "    amount=float(input(\"Enter amount to be withdrawn: \"))\n",
    "    if self.balance>=amount:\n",
    "        self.balance-=amount\n",
    "        print(\"\\n you withdrew:\", amount)\n",
    "    else:\n",
    "        print(\"\\n insufficient balance \")\n",
    "\n",
    "def display(self):\n",
    "    print(\"\\n net available balance=\",self.balance)\n"
   ]
  },
  {
   "cell_type": "code",
   "execution_count": 2,
   "id": "e39d8f0b-5cf8-43db-9de7-9e4975f0c1ea",
   "metadata": {},
   "outputs": [],
   "source": [
    "class BankAccount:\n",
    "    def __init__(self):\n",
    "        self.balance=0\n",
    "        print(\"Hello!!! welcome to the deposit & withdrawal machine\")\n",
    "        \n",
    "    def deposit(self):\n",
    "        amount=float(input(\"Enter amount to be deposited: \"))\n",
    "        self.balance += amount\n",
    "        print(\"\\n Amount deposited:\",amount)\n",
    "\n",
    "    def withdraw(self):\n",
    "        amount=float(input(\"Enter amount to be withdrawn: \"))\n",
    "        if  self.balance>=amount:\n",
    "            self.balance-=amount\n",
    "            print(\"\\n you withdrew:\", amount)\n",
    "        else:\n",
    "            print(\"\\n insufficient balance \")\n",
    "\n",
    "    def display(self):\n",
    "        print(\"\\n net available balance=\",self.balance)\n"
   ]
  },
  {
   "cell_type": "code",
   "execution_count": 14,
   "id": "85837e8a-c075-4bb0-9042-c72bf9f57a70",
   "metadata": {},
   "outputs": [
    {
     "name": "stdout",
     "output_type": "stream",
     "text": [
      "Hello!!! welcome to the deposit & withdrawal machine\n"
     ]
    },
    {
     "name": "stdin",
     "output_type": "stream",
     "text": [
      "Enter amount to be deposited:  1000\n"
     ]
    },
    {
     "name": "stdout",
     "output_type": "stream",
     "text": [
      "\n",
      " Amount deposited: 1000.0\n"
     ]
    },
    {
     "name": "stdin",
     "output_type": "stream",
     "text": [
      "Enter amount to be withdrawn:  500\n"
     ]
    },
    {
     "name": "stdout",
     "output_type": "stream",
     "text": [
      "\n",
      " you withdrew: 500.0\n",
      "\n",
      " net available balance= 500.0\n"
     ]
    }
   ],
   "source": [
    "s= BankAccount ()\n",
    "s.deposit ()\n",
    "s.withdraw ()\n",
    "s.display ()\n"
   ]
  },
  {
   "cell_type": "code",
   "execution_count": null,
   "id": "6b88de9f-ee53-44ac-8c57-b8a1c68bd093",
   "metadata": {},
   "outputs": [],
   "source": []
  },
  {
   "cell_type": "code",
   "execution_count": null,
   "id": "3300c6c0-0320-4832-a9a8-f29b55c6568e",
   "metadata": {},
   "outputs": [],
   "source": []
  },
  {
   "cell_type": "code",
   "execution_count": null,
   "id": "43d00ae1-1ed6-41bc-9cba-6fe6cfb73928",
   "metadata": {},
   "outputs": [],
   "source": []
  }
 ],
 "metadata": {
  "kernelspec": {
   "display_name": "Python 3 (ipykernel)",
   "language": "python",
   "name": "python3"
  },
  "language_info": {
   "codemirror_mode": {
    "name": "ipython",
    "version": 3
   },
   "file_extension": ".py",
   "mimetype": "text/x-python",
   "name": "python",
   "nbconvert_exporter": "python",
   "pygments_lexer": "ipython3",
   "version": "3.12.4"
  }
 },
 "nbformat": 4,
 "nbformat_minor": 5
}
