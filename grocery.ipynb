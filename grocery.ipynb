{
 "cells": [
  {
   "cell_type": "markdown",
   "id": "a01209ae-c1b5-43d5-93b9-64c50a898bc3",
   "metadata": {},
   "source": [
    "#Grocery store bill calculator"
   ]
  },
  {
   "cell_type": "code",
   "execution_count": 12,
   "id": "92c79e5d-2a9f-479b-9ad9-79d21581e8c0",
   "metadata": {},
   "outputs": [],
   "source": [
    "prices = {'apple':10, 'milk':50, 'bread':30, 'banana':20, 'egg':5}"
   ]
  },
  {
   "cell_type": "code",
   "execution_count": 24,
   "id": "56973814-a870-4de4-8c5f-cf69eb9dd7fc",
   "metadata": {},
   "outputs": [],
   "source": [
    "def calculate_total_bill():\n",
    "    total=0\n",
    "    print(\"items available in the store: \")\n",
    "    for item, price in prices.items():\n",
    "        print(f\"{item}: {price} units\")"
   ]
  },
  {
   "cell_type": "code",
   "execution_count": 56,
   "id": "15ae4ed6-6135-443f-9054-32df06aa0840",
   "metadata": {},
   "outputs": [
    {
     "name": "stdin",
     "output_type": "stream",
     "text": [
      "Enter the item (or 'done' to finish):  bread\n"
     ]
    },
    {
     "name": "stdout",
     "output_type": "stream",
     "text": [
      "Debug:you entered item = bread\n"
     ]
    },
    {
     "name": "stdin",
     "output_type": "stream",
     "text": [
      "Enter the item (or 'done' to finish):  done\n"
     ]
    },
    {
     "name": "stdout",
     "output_type": "stream",
     "text": [
      "Debug:you entered item = done\n",
      "Exiting,as you entered 'done'.\n",
      "items available in the store: \n",
      "apple: 10 units\n",
      "milk: 50 units\n",
      "bread: 30 units\n",
      "banana: 20 units\n",
      "egg: 5 units\n"
     ]
    }
   ],
   "source": [
    "    while True:\n",
    "        item = input(\"Enter the item name: \").lower()\n",
    "        if item == 'done':\n",
    "            break\n",
    "            \n",
    "            if item in prices:\n",
    "                try:\n",
    "                    quantity = int(input(f\"Enter the quantity for {item}: \"))\n",
    "                    total_bill += prices[item] * quantity \n",
    "                except ValueError:\n",
    "                    print(\"please enter a valid quantity.\")\n",
    "            else:\n",
    "                print(f\"sorry, we don't have {item} in the store.\")\n",
    "                    \n",
    "            print (f\"total bill is: {total_bill} units\")\n",
    "\n",
    "calculate_total_bill()\n",
    " "
   ]
  },
  {
   "cell_type": "code",
   "execution_count": null,
   "id": "9383db7e-2eb3-4202-b87e-d3cf48d72121",
   "metadata": {},
   "outputs": [],
   "source": []
  },
  {
   "cell_type": "code",
   "execution_count": null,
   "id": "0c2a6d98-af68-4f17-916d-74f62e94cb52",
   "metadata": {},
   "outputs": [],
   "source": []
  }
 ],
 "metadata": {
  "kernelspec": {
   "display_name": "Python 3 (ipykernel)",
   "language": "python",
   "name": "python3"
  },
  "language_info": {
   "codemirror_mode": {
    "name": "ipython",
    "version": 3
   },
   "file_extension": ".py",
   "mimetype": "text/x-python",
   "name": "python",
   "nbconvert_exporter": "python",
   "pygments_lexer": "ipython3",
   "version": "3.12.4"
  }
 },
 "nbformat": 4,
 "nbformat_minor": 5
}
