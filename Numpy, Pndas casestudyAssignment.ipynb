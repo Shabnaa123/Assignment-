{
 "cells": [
  {
   "cell_type": "markdown",
   "id": "97eaf8ea-5edc-46e4-b80a-fc547ea072c0",
   "metadata": {},
   "source": [
    "# NUMPY ARRAY MANIPULATION"
   ]
  },
  {
   "cell_type": "code",
   "execution_count": 5,
   "id": "8186071a-34b7-4b0b-9f7e-9bda14970556",
   "metadata": {},
   "outputs": [],
   "source": [
    "# Create a 1D NumPy array with integers from 1 to 24"
   ]
  },
  {
   "cell_type": "code",
   "execution_count": 7,
   "id": "097494e1-16ed-432c-bfb4-359b023d264b",
   "metadata": {},
   "outputs": [],
   "source": [
    "import numpy as np \n"
   ]
  },
  {
   "cell_type": "code",
   "execution_count": 9,
   "id": "4fae3959-76db-449b-9b0e-972b8f247a56",
   "metadata": {},
   "outputs": [
    {
     "name": "stdout",
     "output_type": "stream",
     "text": [
      "[ 1  2  3  4  5  6  7  8  9 10 11 12 13 14 15 16 17 18 19 20 21 22 23 24]\n"
     ]
    }
   ],
   "source": [
    "array = np.arange(1,25)\n",
    "print(array)"
   ]
  },
  {
   "cell_type": "code",
   "execution_count": 11,
   "id": "9bc54c37-5b78-4909-b5ac-11e86f3f8980",
   "metadata": {},
   "outputs": [],
   "source": [
    "# Reshape the array into a 4x6 matrix. "
   ]
  },
  {
   "cell_type": "code",
   "execution_count": 13,
   "id": "c3f93559-af53-43cd-8843-31db1673d03c",
   "metadata": {},
   "outputs": [
    {
     "name": "stdout",
     "output_type": "stream",
     "text": [
      "[[ 1  2  3  4  5  6]\n",
      " [ 7  8  9 10 11 12]\n",
      " [13 14 15 16 17 18]\n",
      " [19 20 21 22 23 24]]\n"
     ]
    }
   ],
   "source": [
    "matrix = array.reshape(4,6)\n",
    "print(matrix)"
   ]
  },
  {
   "cell_type": "code",
   "execution_count": 15,
   "id": "ab48a82f-5072-4448-8c05-2928151a5bb3",
   "metadata": {},
   "outputs": [],
   "source": [
    "#Extract the third row and second column from the reshaped array.  "
   ]
  },
  {
   "cell_type": "code",
   "execution_count": 17,
   "id": "f2974af9-d56e-4e53-92fb-352dfef8fef5",
   "metadata": {},
   "outputs": [],
   "source": [
    "third_row = matrix[2, :]\n",
    "second_column = matrix[:, 1]"
   ]
  },
  {
   "cell_type": "code",
   "execution_count": 19,
   "id": "1e4359e9-950b-4a61-9df5-8fef2f8a5b07",
   "metadata": {},
   "outputs": [
    {
     "name": "stdout",
     "output_type": "stream",
     "text": [
      "[13 14 15 16 17 18] [ 2  8 14 20]\n"
     ]
    }
   ],
   "source": [
    "print(third_row,second_column)"
   ]
  },
  {
   "cell_type": "code",
   "execution_count": 21,
   "id": "e9170d11-08f2-4a35-a55a-02ade5781112",
   "metadata": {},
   "outputs": [],
   "source": [
    "#Transpose the matrix and display the result."
   ]
  },
  {
   "cell_type": "code",
   "execution_count": 23,
   "id": "d6f543b5-5837-4995-91a6-0c5d9d772773",
   "metadata": {},
   "outputs": [
    {
     "name": "stdout",
     "output_type": "stream",
     "text": [
      "[[ 1  7 13 19]\n",
      " [ 2  8 14 20]\n",
      " [ 3  9 15 21]\n",
      " [ 4 10 16 22]\n",
      " [ 5 11 17 23]\n",
      " [ 6 12 18 24]]\n"
     ]
    }
   ],
   "source": [
    "transposed_matrix = matrix.T\n",
    "print(transposed_matrix)"
   ]
  },
  {
   "cell_type": "markdown",
   "id": "5fe0bbe1-bbeb-450a-a841-3ae1a5ff212d",
   "metadata": {},
   "source": [
    "# ARRAY ELEMENT EXTRACTION"
   ]
  },
  {
   "cell_type": "code",
   "execution_count": 26,
   "id": "f42d6adb-1f15-4390-8e90-bbed77c4c243",
   "metadata": {},
   "outputs": [],
   "source": [
    "#Create a 5x5 NumPy array with random integers between 10 and 100"
   ]
  },
  {
   "cell_type": "code",
   "execution_count": 28,
   "id": "52e219ce-bb8e-42c2-9df5-0ebe65202a98",
   "metadata": {},
   "outputs": [
    {
     "name": "stdout",
     "output_type": "stream",
     "text": [
      "original array:\n",
      "[[46 14 77 23 89]\n",
      " [54 27 48 40 69]\n",
      " [95 85 29 26 64]\n",
      " [74 64 80 63 59]\n",
      " [91 14 87 10 38]]\n"
     ]
    }
   ],
   "source": [
    "arr = np.random.randint(10,101, (5,5))\n",
    "print(\"original array:\")\n",
    "print(arr)"
   ]
  },
  {
   "cell_type": "code",
   "execution_count": 30,
   "id": "b2ff78e4-4cba-4f8d-88b4-5b22491b240e",
   "metadata": {},
   "outputs": [],
   "source": [
    "#Extract all the **even numbers** from the array."
   ]
  },
  {
   "cell_type": "code",
   "execution_count": 32,
   "id": "7a988472-6244-4dc7-809d-7824fda07261",
   "metadata": {},
   "outputs": [
    {
     "name": "stdout",
     "output_type": "stream",
     "text": [
      "\n",
      "Even numbers\n",
      "[46 14 54 48 40 26 64 74 64 80 14 10 38]\n"
     ]
    }
   ],
   "source": [
    "even_no = arr[arr % 2 == 0]\n",
    "print(\"\\nEven numbers\")\n",
    "print(even_no)"
   ]
  },
  {
   "cell_type": "code",
   "execution_count": 34,
   "id": "78c0fc6d-e263-4ae5-9207-28f68a1324ac",
   "metadata": {},
   "outputs": [],
   "source": [
    "#Replace all numbers **greater than 50** with **0**"
   ]
  },
  {
   "cell_type": "code",
   "execution_count": 40,
   "id": "36043471-f285-4569-8740-8e726cbb335a",
   "metadata": {},
   "outputs": [
    {
     "name": "stdout",
     "output_type": "stream",
     "text": [
      "\n",
      "Array after replacing values>50 with 0:\n",
      "[[46 14  0 23  0]\n",
      " [ 0 27 48 40  0]\n",
      " [ 0  0 29 26  0]\n",
      " [ 0  0  0  0  0]\n",
      " [ 0 14  0 10 38]]\n"
     ]
    }
   ],
   "source": [
    "arr[arr>50] = 0\n",
    "print(\"\\nArray after replacing values>50 with 0:\")\n",
    "print(arr)"
   ]
  },
  {
   "cell_type": "code",
   "execution_count": 42,
   "id": "27ef2e08-d36c-4965-9fc0-76f83b593ff9",
   "metadata": {},
   "outputs": [],
   "source": [
    "#Extract the diagonal elements of the array."
   ]
  },
  {
   "cell_type": "code",
   "execution_count": 44,
   "id": "ea24a89a-4c70-4ab6-a771-8f673f87e181",
   "metadata": {},
   "outputs": [
    {
     "name": "stdout",
     "output_type": "stream",
     "text": [
      "\n",
      "Diagonal elements:\n",
      "[46 27 29  0 38]\n"
     ]
    }
   ],
   "source": [
    "diagonal_elements = np.diag(arr)\n",
    "print(\"\\nDiagonal elements:\")\n",
    "print(diagonal_elements)"
   ]
  },
  {
   "cell_type": "markdown",
   "id": "3ed43c28-b993-4d3d-8448-df6e6d4852bb",
   "metadata": {},
   "source": [
    "#  DataFrame Creation and Operations (Pandas)**"
   ]
  },
  {
   "cell_type": "code",
   "execution_count": 75,
   "id": "ef4de6ea-e036-46ae-b841-ea0ec61c6d9c",
   "metadata": {},
   "outputs": [],
   "source": [
    "#Create a Pandas DataFrame containing the following data:"
   ]
  },
  {
   "cell_type": "code",
   "execution_count": 77,
   "id": "02817096-4477-4cf9-aaee-0da55fce3e26",
   "metadata": {},
   "outputs": [],
   "source": [
    "import pandas as pd"
   ]
  },
  {
   "cell_type": "code",
   "execution_count": 110,
   "id": "61a666c1-30db-4ef6-a0a0-6fe2f2be1051",
   "metadata": {},
   "outputs": [],
   "source": [
    "data = {'Student id': [1,2,3,4,5], 'Name': ['Alice','Bob','Carol','David','Eva'], 'Subject': ['Math','Science','History','Math','Science'], 'Marks': [88,75,92,85,90]}"
   ]
  },
  {
   "cell_type": "code",
   "execution_count": 112,
   "id": "9cf78192-3815-4f97-9321-443afb84a423",
   "metadata": {},
   "outputs": [
    {
     "name": "stdout",
     "output_type": "stream",
     "text": [
      "   Student id   Name  Subject  Marks\n",
      "0           1  Alice     Math     88\n",
      "1           2    Bob  Science     75\n",
      "2           3  Carol  History     92\n",
      "3           4  David     Math     85\n",
      "4           5    Eva  Science     90\n"
     ]
    }
   ],
   "source": [
    "df = pd.DataFrame(data)\n",
    "print(df)"
   ]
  },
  {
   "cell_type": "code",
   "execution_count": 114,
   "id": "df53a83d-4559-49bc-a4f3-d8c9e157f5c7",
   "metadata": {},
   "outputs": [],
   "source": [
    "#Find the **average marks** for each subject."
   ]
  },
  {
   "cell_type": "code",
   "execution_count": 116,
   "id": "7a67d47a-73da-4c68-aa7c-d7b16e70fbac",
   "metadata": {},
   "outputs": [
    {
     "name": "stdout",
     "output_type": "stream",
     "text": [
      "Subject\n",
      "History    92.0\n",
      "Math       86.5\n",
      "Science    82.5\n",
      "Name: Marks, dtype: float64\n"
     ]
    }
   ],
   "source": [
    "avg_marks = df.groupby('Subject')['Marks'].mean()\n",
    "print(avg_marks)"
   ]
  },
  {
   "cell_type": "code",
   "execution_count": 118,
   "id": "8d2861b2-1744-438e-a8e1-7b0db0b28f5c",
   "metadata": {},
   "outputs": [],
   "source": [
    "#Add a new column named **Grade** based on the marks:"
   ]
  },
  {
   "cell_type": "code",
   "execution_count": 120,
   "id": "5440680c-af30-4866-9ed7-d516e99e2e33",
   "metadata": {},
   "outputs": [],
   "source": [
    "def assign_grade(marks):\n",
    "    if marks >= 90:\n",
    "        return 'A'\n",
    "    elif marks >= 80:\n",
    "        return 'B'\n",
    "    elif marks >= 70:\n",
    "        return 'C'\n",
    "    else:\n",
    "        return 'D'"
   ]
  },
  {
   "cell_type": "code",
   "execution_count": 122,
   "id": "098de8bb-ce27-4fc5-b43e-f745834dd4b2",
   "metadata": {},
   "outputs": [
    {
     "name": "stdout",
     "output_type": "stream",
     "text": [
      "   Student id   Name  Subject  Marks Grade\n",
      "0           1  Alice     Math     88     B\n",
      "1           2    Bob  Science     75     C\n",
      "2           3  Carol  History     92     A\n",
      "3           4  David     Math     85     B\n",
      "4           5    Eva  Science     90     A\n"
     ]
    }
   ],
   "source": [
    "df['Grade'] = df['Marks'].apply(assign_grade)\n",
    "print(df)"
   ]
  },
  {
   "cell_type": "markdown",
   "id": "b239eb66-29d5-4c9e-96bf-ad136aa94c5e",
   "metadata": {},
   "source": [
    "# Dataset Analysis (Pandas, Matplotlib, Seaborn)"
   ]
  },
  {
   "cell_type": "code",
   "execution_count": 125,
   "id": "707786d1-daa0-42c4-b273-9884552728e4",
   "metadata": {},
   "outputs": [],
   "source": [
    "import pandas as pd\n",
    "import matplotlib.pyplot as plt\n",
    "import seaborn as sns"
   ]
  },
  {
   "cell_type": "code",
   "execution_count": 127,
   "id": "d54b376f-e26a-4471-bba6-7e7391d49ae0",
   "metadata": {},
   "outputs": [],
   "source": [
    "data = pd.read_csv('/Users/shabn/Downloads/diabetes_model.csv')"
   ]
  },
  {
   "cell_type": "code",
   "execution_count": 129,
   "id": "a82903b8-cdb5-4350-a10e-34fbc97db883",
   "metadata": {},
   "outputs": [
    {
     "data": {
      "text/html": [
       "<div>\n",
       "<style scoped>\n",
       "    .dataframe tbody tr th:only-of-type {\n",
       "        vertical-align: middle;\n",
       "    }\n",
       "\n",
       "    .dataframe tbody tr th {\n",
       "        vertical-align: top;\n",
       "    }\n",
       "\n",
       "    .dataframe thead th {\n",
       "        text-align: right;\n",
       "    }\n",
       "</style>\n",
       "<table border=\"1\" class=\"dataframe\">\n",
       "  <thead>\n",
       "    <tr style=\"text-align: right;\">\n",
       "      <th></th>\n",
       "      <th>Pregnancies</th>\n",
       "      <th>Glucose</th>\n",
       "      <th>BloodPressure</th>\n",
       "      <th>SkinThickness</th>\n",
       "      <th>Insulin</th>\n",
       "      <th>BMI</th>\n",
       "      <th>DiabetesPedigreeFunction</th>\n",
       "      <th>Age</th>\n",
       "      <th>Outcome</th>\n",
       "    </tr>\n",
       "  </thead>\n",
       "  <tbody>\n",
       "    <tr>\n",
       "      <th>0</th>\n",
       "      <td>5</td>\n",
       "      <td>77</td>\n",
       "      <td>82</td>\n",
       "      <td>41</td>\n",
       "      <td>42</td>\n",
       "      <td>35.8</td>\n",
       "      <td>0.156</td>\n",
       "      <td>35</td>\n",
       "      <td>0</td>\n",
       "    </tr>\n",
       "    <tr>\n",
       "      <th>1</th>\n",
       "      <td>9</td>\n",
       "      <td>122</td>\n",
       "      <td>56</td>\n",
       "      <td>0</td>\n",
       "      <td>0</td>\n",
       "      <td>33.3</td>\n",
       "      <td>1.114</td>\n",
       "      <td>33</td>\n",
       "      <td>1</td>\n",
       "    </tr>\n",
       "    <tr>\n",
       "      <th>2</th>\n",
       "      <td>0</td>\n",
       "      <td>113</td>\n",
       "      <td>76</td>\n",
       "      <td>0</td>\n",
       "      <td>0</td>\n",
       "      <td>33.3</td>\n",
       "      <td>0.278</td>\n",
       "      <td>23</td>\n",
       "      <td>1</td>\n",
       "    </tr>\n",
       "    <tr>\n",
       "      <th>3</th>\n",
       "      <td>1</td>\n",
       "      <td>139</td>\n",
       "      <td>62</td>\n",
       "      <td>41</td>\n",
       "      <td>480</td>\n",
       "      <td>40.7</td>\n",
       "      <td>0.536</td>\n",
       "      <td>21</td>\n",
       "      <td>0</td>\n",
       "    </tr>\n",
       "    <tr>\n",
       "      <th>4</th>\n",
       "      <td>10</td>\n",
       "      <td>161</td>\n",
       "      <td>68</td>\n",
       "      <td>23</td>\n",
       "      <td>132</td>\n",
       "      <td>25.5</td>\n",
       "      <td>0.326</td>\n",
       "      <td>47</td>\n",
       "      <td>1</td>\n",
       "    </tr>\n",
       "  </tbody>\n",
       "</table>\n",
       "</div>"
      ],
      "text/plain": [
       "   Pregnancies  Glucose  BloodPressure  SkinThickness  Insulin   BMI  \\\n",
       "0            5       77             82             41       42  35.8   \n",
       "1            9      122             56              0        0  33.3   \n",
       "2            0      113             76              0        0  33.3   \n",
       "3            1      139             62             41      480  40.7   \n",
       "4           10      161             68             23      132  25.5   \n",
       "\n",
       "   DiabetesPedigreeFunction  Age  Outcome  \n",
       "0                     0.156   35        0  \n",
       "1                     1.114   33        1  \n",
       "2                     0.278   23        1  \n",
       "3                     0.536   21        0  \n",
       "4                     0.326   47        1  "
      ]
     },
     "execution_count": 129,
     "metadata": {},
     "output_type": "execute_result"
    }
   ],
   "source": [
    "data.head()"
   ]
  },
  {
   "cell_type": "code",
   "execution_count": 132,
   "id": "e2f8294c-50af-4faa-b683-e5b7bed2d310",
   "metadata": {},
   "outputs": [],
   "source": [
    "# Display the **BMI** and **Blood Pressure** for samples with **index ranging from 20 to 40"
   ]
  },
  {
   "cell_type": "code",
   "execution_count": 136,
   "id": "02795e79-4426-4b5d-8d04-58529183c438",
   "metadata": {},
   "outputs": [
    {
     "name": "stdout",
     "output_type": "stream",
     "text": [
      "     BMI  BloodPressure\n",
      "20  34.2             70\n",
      "21  35.0             82\n",
      "22  30.5             74\n",
      "23  31.6             70\n",
      "24  22.1             62\n",
      "25  27.1             88\n",
      "26  43.5             60\n",
      "27  36.0             75\n",
      "28  34.2             70\n",
      "29  36.5             90\n",
      "30  30.4             86\n",
      "31  43.3             78\n",
      "32  37.7             68\n",
      "33  23.0             78\n",
      "34  46.1             78\n",
      "35  32.8             78\n",
      "36  43.3             30\n",
      "37  26.5             68\n",
      "38  28.0              0\n",
      "39  46.8             84\n",
      "40  24.4             55\n"
     ]
    }
   ],
   "source": [
    "print(data.loc[20:40, [\"BMI\", \"BloodPressure\"]])"
   ]
  },
  {
   "cell_type": "code",
   "execution_count": 138,
   "id": "e14c6112-dde7-45d5-a4fa-df5b0d4c4a6e",
   "metadata": {},
   "outputs": [],
   "source": [
    "#Find how many patients have **BMI > 30"
   ]
  },
  {
   "cell_type": "code",
   "execution_count": 140,
   "id": "5142423e-153f-4014-8c8f-bfa6df314642",
   "metadata": {},
   "outputs": [
    {
     "name": "stdout",
     "output_type": "stream",
     "text": [
      "372\n"
     ]
    }
   ],
   "source": [
    "print(data[data[\"BMI\"] > 30].shape[0])"
   ]
  },
  {
   "cell_type": "code",
   "execution_count": 142,
   "id": "f2a400d9-b45a-402d-9b72-7d03e30075b5",
   "metadata": {},
   "outputs": [],
   "source": [
    "#Find the **mean and standard deviation** of the **Glucose** levels."
   ]
  },
  {
   "cell_type": "code",
   "execution_count": 144,
   "id": "211d0c74-de45-4765-afd8-179cc201fcf9",
   "metadata": {},
   "outputs": [
    {
     "name": "stdout",
     "output_type": "stream",
     "text": [
      "Mean Glucose: 121.5\n"
     ]
    }
   ],
   "source": [
    "print(\"Mean Glucose:\", data[\"Glucose\"].mean())"
   ]
  },
  {
   "cell_type": "code",
   "execution_count": 146,
   "id": "153ce95c-882a-4303-8c2a-cec9abe5255d",
   "metadata": {},
   "outputs": [
    {
     "name": "stdout",
     "output_type": "stream",
     "text": [
      "Standard Deviation Glucose: 32.27591842655023\n"
     ]
    }
   ],
   "source": [
    "print(\"Standard Deviation Glucose:\", data[\"Glucose\"].std())"
   ]
  },
  {
   "cell_type": "code",
   "execution_count": 148,
   "id": "8e92ec38-9e5f-41bc-aeaf-ab40ad8c48c1",
   "metadata": {},
   "outputs": [],
   "source": [
    "#Plot a **boxplot** for the column **Insulin"
   ]
  },
  {
   "cell_type": "code",
   "execution_count": 150,
   "id": "ef452d3a-73bd-4137-846d-66fe0e9b84a3",
   "metadata": {},
   "outputs": [
    {
     "data": {
      "image/png": "[encoded data removed]",
      "text/plain": [
       "<Figure size 640x480 with 1 Axes>"
      ]
     },
     "metadata": {},
     "output_type": "display_data"
    }
   ],
   "source": [
    "plt.figure()\n",
    "sns.boxplot(data[\"Insulin\"])\n",
    "plt.title(\"Boxplot of Insulin\")\n",
    "plt.show()"
   ]
  },
  {
   "cell_type": "code",
   "execution_count": 152,
   "id": "433e5306-6474-4500-bfdf-d49c66b9403a",
   "metadata": {},
   "outputs": [],
   "source": [
    "#Create a **heatmap** showing the correlation between the numerical columns in the dataset"
   ]
  },
  {
   "cell_type": "code",
   "execution_count": 154,
   "id": "438749e5-a4ba-4b8f-9e2c-183b4bf3c759",
   "metadata": {},
   "outputs": [
    {
     "data": {
      "image/png": "[encoded data removed]",
      "text/plain": [
       "<Figure size 640x480 with 2 Axes>"
      ]
     },
     "metadata": {},
     "output_type": "display_data"
    }
   ],
   "source": [
    "plt.figure()\n",
    "sns.heatmap(data.corr(), annot=True)\n",
    "plt.title(\"Correlation Heatmap\")\n",
    "plt.show()"
   ]
  },
  {
   "cell_type": "code",
   "execution_count": null,
   "id": "ad8fdddc-6a26-41fb-9ef7-c32080fd102c",
   "metadata": {},
   "outputs": [],
   "source": []
  }
 ],
 "metadata": {
  "kernelspec": {
   "display_name": "Python 3 (ipykernel)",
   "language": "python",
   "name": "python3"
  },
  "language_info": {
   "codemirror_mode": {
    "name": "ipython",
    "version": 3
   },
   "file_extension": ".py",
   "mimetype": "text/x-python",
   "name": "python",
   "nbconvert_exporter": "python",
   "pygments_lexer": "ipython3",
   "version": "3.12.4"
  }
 },
 "nbformat": 4,
 "nbformat_minor": 5
}
